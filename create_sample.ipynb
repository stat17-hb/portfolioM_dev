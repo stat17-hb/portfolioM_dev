{
 "cells": [
  {
   "cell_type": "code",
   "execution_count": 5,
   "metadata": {},
   "outputs": [],
   "source": [
    "import yfinance as yf\n",
    "import pandas as pd\n",
    "import numpy as np\n",
    "import time\n",
    "\n",
    "# 설정\n",
    "np.random.seed(42)\n",
    "tickers = [\"AAPL\", \"MSFT\", \"NVDA\", \"TSLA\", \"AMZN\"]  # 5개 종목\n",
    "start_date = \"2022-01-01\"\n",
    "end_date = \"2024-12-31\""
   ]
  },
  {
   "cell_type": "code",
   "execution_count": 7,
   "metadata": {},
   "outputs": [
    {
     "name": "stderr",
     "output_type": "stream",
     "text": [
      "[*********************100%***********************]  1 of 1 completed\n",
      "\n",
      "1 Failed download:\n",
      "['AAPL']: YFRateLimitError('Too Many Requests. Rate limited. Try after a while.')\n"
     ]
    },
    {
     "data": {
      "text/html": [
       "<div>\n",
       "<style scoped>\n",
       "    .dataframe tbody tr th:only-of-type {\n",
       "        vertical-align: middle;\n",
       "    }\n",
       "\n",
       "    .dataframe tbody tr th {\n",
       "        vertical-align: top;\n",
       "    }\n",
       "\n",
       "    .dataframe thead th {\n",
       "        text-align: right;\n",
       "    }\n",
       "</style>\n",
       "<table border=\"1\" class=\"dataframe\">\n",
       "  <thead>\n",
       "    <tr style=\"text-align: right;\">\n",
       "      <th>Ticker</th>\n",
       "      <th>AAPL</th>\n",
       "    </tr>\n",
       "    <tr>\n",
       "      <th>Date</th>\n",
       "      <th></th>\n",
       "    </tr>\n",
       "  </thead>\n",
       "  <tbody>\n",
       "  </tbody>\n",
       "</table>\n",
       "</div>"
      ],
      "text/plain": [
       "Empty DataFrame\n",
       "Columns: [AAPL]\n",
       "Index: []"
      ]
     },
     "execution_count": 7,
     "metadata": {},
     "output_type": "execute_result"
    }
   ],
   "source": [
    "yf.download([\"AAPL\"], start=start_date, end=end_date, interval=\"1d\")[\"Adj Close\"]"
   ]
  },
  {
   "cell_type": "code",
   "execution_count": null,
   "metadata": {},
   "outputs": [
    {
     "name": "stdout",
     "output_type": "stream",
     "text": [
      "주가 데이터 다운로드 시도 1/3...\n"
     ]
    },
    {
     "name": "stderr",
     "output_type": "stream",
     "text": [
      "[*********************100%***********************]  5 of 5 completed\n",
      "\n",
      "5 Failed downloads:\n",
      "['AAPL', 'AMZN', 'MSFT', 'TSLA', 'GOOGL']: YFRateLimitError('Too Many Requests. Rate limited. Try after a while.')\n"
     ]
    },
    {
     "name": "stdout",
     "output_type": "stream",
     "text": [
      "30초 후 재시도합니다...\n",
      "주가 데이터 다운로드 시도 2/3...\n"
     ]
    },
    {
     "name": "stderr",
     "output_type": "stream",
     "text": [
      "[*********************100%***********************]  4 of 5 completed\n",
      "\n",
      "5 Failed downloads:\n",
      "[**********************80%*************          ]  4 of 5 completed['TSLA', 'MSFT', 'AMZN', 'AAPL', 'GOOGL']: YFRateLimitError('Too Many Requests. Rate limited. Try after a while.')\n"
     ]
    },
    {
     "name": "stdout",
     "output_type": "stream",
     "text": [
      "30초 후 재시도합니다...\n",
      "주가 데이터 다운로드 시도 3/3...\n"
     ]
    },
    {
     "name": "stderr",
     "output_type": "stream",
     "text": [
      "[*********************100%***********************]  5 of 5 completed\n",
      "\n",
      "5 Failed downloads:\n",
      "['TSLA', 'MSFT', 'GOOGL', 'AAPL', 'AMZN']: YFRateLimitError('Too Many Requests. Rate limited. Try after a while.')\n"
     ]
    },
    {
     "name": "stdout",
     "output_type": "stream",
     "text": [
      "30초 후 재시도합니다...\n"
     ]
    }
   ],
   "source": [
    "def download_with_retry(tickers, start_date, end_date, max_retries=3):\n",
    "    for attempt in range(max_retries):\n",
    "        try:\n",
    "            print(f\"주가 데이터 다운로드 시도 {attempt + 1}/{max_retries}...\")\n",
    "            stock_data = yf.download(tickers, start=start_date, end=end_date)[\"Adj Close\"]\n",
    "            \n",
    "            if not stock_data.empty and not stock_data.isna().all().all():\n",
    "                print(\"데이터 다운로드 성공!\")\n",
    "                return stock_data\n",
    "                \n",
    "        except Exception as e:\n",
    "            print(f\"다운로드 실패: {str(e)}\")\n",
    "            \n",
    "        print(\"30초 후 재시도합니다...\")\n",
    "        time.sleep(30)  # 30초 대기\n",
    "    \n",
    "    return None\n",
    "\n",
    "# 데이터 다운로드 시도\n",
    "stock_data = download_with_retry(tickers, start_date, end_date)"
   ]
  },
  {
   "cell_type": "code",
   "execution_count": null,
   "metadata": {},
   "outputs": [],
   "source": []
  },
  {
   "cell_type": "code",
   "execution_count": null,
   "metadata": {},
   "outputs": [],
   "source": [
    "def download_with_retry(tickers, start_date, end_date, max_retries=3):\n",
    "    for attempt in range(max_retries):\n",
    "        try:\n",
    "            print(f\"주가 데이터 다운로드 시도 {attempt + 1}/{max_retries}...\")\n",
    "            stock_data = yf.download(tickers, start=start_date, end=end_date)[\"Adj Close\"]\n",
    "            \n",
    "            if not stock_data.empty and not stock_data.isna().all().all():\n",
    "                print(\"데이터 다운로드 성공!\")\n",
    "                return stock_data\n",
    "                \n",
    "        except Exception as e:\n",
    "            print(f\"다운로드 실패: {str(e)}\")\n",
    "            \n",
    "        print(\"30초 후 재시도합니다...\")\n",
    "        time.sleep(30)  # 30초 대기\n",
    "    \n",
    "    return None\n",
    "\n",
    "# 데이터 다운로드 시도\n",
    "stock_data = download_with_retry(tickers, start_date, end_date)\n",
    "\n",
    "if stock_data is None:\n",
    "    print(\"샘플 데이터를 생성합니다.\")\n",
    "    # 샘플 주가 데이터 생성\n",
    "    dates = pd.date_range(start=start_date, end=end_date, freq='B')  # 영업일 기준\n",
    "    stock_data = pd.DataFrame(index=dates)\n",
    "    for ticker in tickers:\n",
    "        base_price = np.random.randint(100, 1000)\n",
    "        prices = np.random.normal(loc=0, scale=0.02, size=len(dates))\n",
    "        prices = base_price * (1 + np.cumsum(prices))\n",
    "        stock_data[ticker] = prices\n",
    "\n",
    "# 거래 데이터 생성\n",
    "dates = pd.date_range(start=start_date, end=end_date, freq=\"W-FRI\")  # 매주 금요일 기준\n",
    "num_trades = len(dates)\n",
    "trade_types = [\"Buy\", \"Sell\"]\n",
    "\n",
    "trade_data = []\n",
    "portfolio_value = 10000  # 초기 포트폴리오 가치\n",
    "\n",
    "for i in range(num_trades):\n",
    "    date = dates[i]\n",
    "    symbol = np.random.choice(tickers)\n",
    "    trade_type = np.random.choice(trade_types)\n",
    "    \n",
    "    # 해당 날짜의 주가 가져오기 (가장 가까운 이전 거래일 사용)\n",
    "    nearest_date = stock_data.index[stock_data.index <= date][-1]\n",
    "    price = stock_data.loc[nearest_date, symbol]\n",
    "    \n",
    "    quantity = np.random.randint(1, 20)  # 1~20주 랜덤 매매\n",
    "    total_value = quantity * price\n",
    "\n",
    "    # 포트폴리오 가치 업데이트\n",
    "    if trade_type == \"Buy\":\n",
    "        portfolio_value += total_value\n",
    "    else:\n",
    "        portfolio_value -= total_value\n",
    "\n",
    "    trade_data.append([\n",
    "        date.strftime(\"%Y-%m-%d\"), \n",
    "        symbol, \n",
    "        trade_type, \n",
    "        quantity, \n",
    "        round(price, 2), \n",
    "        round(total_value, 2), \n",
    "        round(portfolio_value, 2)\n",
    "    ])\n",
    "\n",
    "# 데이터프레임 생성\n",
    "trade_df = pd.DataFrame(\n",
    "    trade_data, \n",
    "    columns=[\"Date\", \"Symbol\", \"Type\", \"Quantity\", \"Price\", \"Total Value\", \"Portfolio Value\"]\n",
    ")\n",
    "\n",
    "# CSV 파일 저장\n",
    "csv_filename = \"sample_trade_data.csv\"\n",
    "trade_df.to_csv(csv_filename, index=False)\n",
    "\n",
    "print(f\"샘플 거래 데이터가 {csv_filename}로 저장되었습니다.\")"
   ]
  },
  {
   "cell_type": "code",
   "execution_count": null,
   "metadata": {},
   "outputs": [],
   "source": []
  },
  {
   "cell_type": "code",
   "execution_count": null,
   "metadata": {},
   "outputs": [],
   "source": []
  },
  {
   "cell_type": "code",
   "execution_count": null,
   "metadata": {},
   "outputs": [],
   "source": []
  }
 ],
 "metadata": {
  "kernelspec": {
   "display_name": "streamlit",
   "language": "python",
   "name": "python3"
  },
  "language_info": {
   "codemirror_mode": {
    "name": "ipython",
    "version": 3
   },
   "file_extension": ".py",
   "mimetype": "text/x-python",
   "name": "python",
   "nbconvert_exporter": "python",
   "pygments_lexer": "ipython3",
   "version": "3.11.9"
  }
 },
 "nbformat": 4,
 "nbformat_minor": 2
}
